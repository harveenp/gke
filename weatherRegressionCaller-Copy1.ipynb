{
 "cells": [
  {
   "cell_type": "code",
   "execution_count": 1,
   "id": "483edbc4-56ef-4e21-941b-5cfc9be0ca4f",
   "metadata": {
    "tags": []
   },
   "outputs": [
    {
     "name": "stderr",
     "output_type": "stream",
     "text": [
      "2024-08-22 05:07:44.806911: I tensorflow/core/platform/cpu_feature_guard.cc:193] This TensorFlow binary is optimized with oneAPI Deep Neural Network Library (oneDNN) to use the following CPU instructions in performance-critical operations:  AVX2 FMA\n",
      "To enable them in other operations, rebuild TensorFlow with the appropriate compiler flags.\n",
      "2024-08-22 05:07:46.037524: W tensorflow/compiler/xla/stream_executor/platform/default/dso_loader.cc:64] Could not load dynamic library 'libnvinfer.so.7'; dlerror: libnvinfer.so.7: cannot open shared object file: No such file or directory; LD_LIBRARY_PATH: /usr/local/cuda/lib64:/usr/local/nccl2/lib:/usr/local/cuda/extras/CUPTI/lib64\n",
      "2024-08-22 05:07:46.037720: W tensorflow/compiler/xla/stream_executor/platform/default/dso_loader.cc:64] Could not load dynamic library 'libnvinfer_plugin.so.7'; dlerror: libnvinfer_plugin.so.7: cannot open shared object file: No such file or directory; LD_LIBRARY_PATH: /usr/local/cuda/lib64:/usr/local/nccl2/lib:/usr/local/cuda/extras/CUPTI/lib64\n",
      "2024-08-22 05:07:46.037733: W tensorflow/compiler/tf2tensorrt/utils/py_utils.cc:38] TF-TRT Warning: Cannot dlopen some TensorRT libraries. If you would like to use Nvidia GPU with TensorRT, please make sure the missing libraries mentioned above are installed properly.\n"
     ]
    }
   ],
   "source": [
    "import os\n",
    "import numpy as np\n",
    "from InputDataProcessor import InputDataProcessor \n",
    "from GenericModel import GenericModel\n",
    "from distributeFunctions import distribute_602020\n",
    "from dataFilters import csv_weather_data_prediction_filter\n",
    "from tensorflow.keras.losses import BinaryCrossentropy, MeanSquaredError\n",
    "from tensorflow.keras.optimizers import Adam\n",
    "from ModelConfig import ModelConfig"
   ]
  },
  {
   "cell_type": "code",
   "execution_count": null,
   "id": "b088984c-9a05-40e6-a75d-25adecc916ee",
   "metadata": {
    "tags": []
   },
   "outputs": [],
   "source": [
    "idp=InputDataProcessor(bucket_name='aiml_harveen', use_case='weather_elbasan/regression', file_name='elbasan2021.csv')"
   ]
  },
  {
   "cell_type": "code",
   "execution_count": null,
   "id": "9b6387e4-47b8-4b37-809f-32bce8b3c025",
   "metadata": {
    "tags": []
   },
   "outputs": [],
   "source": [
    "idp.prepareCsvModelInputData(csv_weather_data_prediction_filter,distribute_602020)"
   ]
  },
  {
   "cell_type": "code",
   "execution_count": 5,
   "id": "dae322f7-1506-4f98-8126-10e1aa6bbcee",
   "metadata": {
    "tags": []
   },
   "outputs": [],
   "source": [
    "os.environ[\"AIP_TRAINING_DATA_URI\"] = \"gs://aiml_harveen/weather_elbasan/regression/training_data/elbasan2021.csv\"\n",
    "os.environ[\"AIP_VALIDATION_DATA_URI\"] = \"gs://aiml_harveen/weather_elbasan/regression/dev_data/elbasan2021.csv\"\n",
    "os.environ[\"AIP_TEST_DATA_URI\"] = \"gs://aiml_harveen/weather_elbasan/regression/test_data/elbasan2021.csv\"\n",
    "os.environ[\"AIP_MODEL_DIR\"] = \"gs://aiml_harveen/weather_elbasan/regression/weather_model\""
   ]
  },
  {
   "cell_type": "code",
   "execution_count": null,
   "id": "16624cfc-8b58-472b-a11d-f55dc9be1e7c",
   "metadata": {
    "tags": []
   },
   "outputs": [],
   "source": [
    "modelConfigList=[\n",
    "    ModelConfig(\n",
    "        model_type=\"regression\",\n",
    "        layers=[\"relu\",\"relu\",\"linear\"],\n",
    "        neurons=[16,8,1],\n",
    "        epochs=20,\n",
    "        loss=MeanSquaredError(),\n",
    "        optimizer=Adam(learning_rate=0.01),\n",
    "        regularizers=[0.001,0.001,0.001],\n",
    "        verbose=1,\n",
    "        no_of_networks=1\n",
    "    ),\n",
    "\n",
    "    \n",
    "#    ModelConfig(\n",
    "#        model_type=\"regression\",\n",
    "#        layers=[\"relu\",\"relu\",\"linear\"],\n",
    "#        neurons=[24,16,1],\n",
    "#        epochs=20,\n",
    "#        loss=MeanSquaredError(),\n",
    "#        optimizer=Adam(learning_rate=0.01),\n",
    "#        regularizers=[0.001,0.001,0.001],\n",
    "#        verbose=1,\n",
    "#        no_of_networks=1\n",
    "#    ),\n",
    "\n",
    "#    ModelConfig(\n",
    "#        model_type=\"regression\",\n",
    "#        layers=[\"relu\",\"relu\",\"linear\"],\n",
    "#        neurons=[32,16,1],\n",
    "#        epochs=20,\n",
    "#        loss=MeanSquaredError(),\n",
    "#        optimizer=Adam(learning_rate=0.01),\n",
    "#        regularizers=[0.001,0.001,0.001],\n",
    "#        verbose=1,\n",
    "#        no_of_networks=1\n",
    "#    ),\n",
    "]"
   ]
  },
  {
   "cell_type": "code",
   "execution_count": null,
   "id": "130458f4-862b-40d9-969b-91dfd349a634",
   "metadata": {
    "tags": []
   },
   "outputs": [],
   "source": [
    "trainErrAry=np.zeros([len(modelConfigList)])\n",
    "validationErrAry=np.zeros([len(modelConfigList)])\n",
    "\n"
   ]
  },
  {
   "cell_type": "code",
   "execution_count": null,
   "id": "7586af29-2b43-4dba-8cfe-90518eb14ba2",
   "metadata": {
    "tags": []
   },
   "outputs": [],
   "source": [
    "gm=GenericModel(modelConfigList[0])\n",
    "gm.train()\n",
    "trainErrAry[0] = gm.train_err\n",
    "gm.validate()\n",
    "validationErrAry[0] = gm.validation_err"
   ]
  },
  {
   "cell_type": "code",
   "execution_count": null,
   "id": "af035007-4ed1-4ebc-80a5-7dd23bef3dd0",
   "metadata": {
    "tags": []
   },
   "outputs": [],
   "source": [
    "#for idx,modelConfig in enumerate(modelConfigList):\n",
    "#    gm=GenericModel(modelConfig)\n",
    "#    gm.train()\n",
    "#    trainErrAry[idx] = gm.train_err\n",
    "#    gm.validate()\n",
    "#    validationErrAry[idx] = gm.validation_err"
   ]
  },
  {
   "cell_type": "code",
   "execution_count": null,
   "id": "6279be17-d61d-4e89-87e4-c7baeb79f211",
   "metadata": {
    "tags": []
   },
   "outputs": [],
   "source": [
    "trainErrAry"
   ]
  },
  {
   "cell_type": "code",
   "execution_count": null,
   "id": "e819b865-7d66-4949-8c31-e0c366853cb7",
   "metadata": {
    "tags": []
   },
   "outputs": [],
   "source": [
    "validationErrAry"
   ]
  },
  {
   "cell_type": "code",
   "execution_count": null,
   "id": "f9422efc-3988-4793-8af5-51072069cab4",
   "metadata": {
    "tags": []
   },
   "outputs": [],
   "source": [
    "gm.save()"
   ]
  },
  {
   "cell_type": "code",
   "execution_count": null,
   "id": "cb7bca95-7479-47b3-a219-258e0113e0d3",
   "metadata": {
    "tags": []
   },
   "outputs": [],
   "source": [
    "#gm.predict(avg_temp=13.9,min_temp=10,max_temp=17.4,wind_dir=73,wind_speed=5.9,pressure=1010.3)"
   ]
  },
  {
   "cell_type": "code",
   "execution_count": null,
   "id": "37cc2645-94df-4a58-9c46-aafa9ff885db",
   "metadata": {
    "tags": []
   },
   "outputs": [],
   "source": [
    "import os\n",
    "import numpy as np\n",
    "import tensorflow as tf\n",
    "from tensorflow.python.lib.io import file_io\n",
    "from google.cloud import storage\n",
    "from tensorflow.keras.layers import Dense, Input\n",
    "from tensorflow.keras import Sequential\n",
    "from tensorflow.keras import regularizers\n",
    "from sklearn.metrics import mean_squared_error"
   ]
  },
  {
   "cell_type": "code",
   "execution_count": null,
   "id": "1c055529-2347-49b9-bb98-0f77c52ce564",
   "metadata": {
    "tags": []
   },
   "outputs": [],
   "source": [
    "model_directory = os.environ['AIP_MODEL_DIR']\n",
    "model = tf.keras.models.load_model(model_directory)"
   ]
  },
  {
   "cell_type": "code",
   "execution_count": 2,
   "id": "11173d1c-2a1e-46f6-861d-42c4bacf2e19",
   "metadata": {
    "tags": []
   },
   "outputs": [],
   "source": [
    "x=np.array([13.9,10,17.4,73,5.9,1010.3])"
   ]
  },
  {
   "cell_type": "code",
   "execution_count": null,
   "id": "8fc5181f-95d4-4fa3-a19e-a63078dc555d",
   "metadata": {
    "tags": []
   },
   "outputs": [],
   "source": [
    "type(x)"
   ]
  },
  {
   "cell_type": "code",
   "execution_count": null,
   "id": "9ad11a23-5c39-48c4-a26e-3c5f418d2ca4",
   "metadata": {
    "tags": []
   },
   "outputs": [],
   "source": [
    "model.predict(x.reshape(1,6))"
   ]
  },
  {
   "cell_type": "code",
   "execution_count": null,
   "id": "c1582e76-2450-41fb-b936-870d17ee4ff0",
   "metadata": {
    "tags": []
   },
   "outputs": [],
   "source": [
    "#model.predict(avg_temp=13.9,min_temp=10,max_temp=17.4,wind_dir=73,wind_speed=5.9,pressure=1010.3)"
   ]
  },
  {
   "cell_type": "code",
   "execution_count": 3,
   "id": "d307779e-4c88-4e35-99dd-20445ff8af9a",
   "metadata": {
    "tags": []
   },
   "outputs": [],
   "source": [
    "gm=GenericModel(None)"
   ]
  },
  {
   "cell_type": "code",
   "execution_count": 6,
   "id": "6c7e2639-0be3-4d17-97cc-79dae3f8fe6c",
   "metadata": {
    "tags": []
   },
   "outputs": [
    {
     "name": "stderr",
     "output_type": "stream",
     "text": [
      "2024-08-22 05:08:26.772609: W tensorflow/compiler/xla/stream_executor/platform/default/dso_loader.cc:64] Could not load dynamic library 'libcuda.so.1'; dlerror: libcuda.so.1: cannot open shared object file: No such file or directory; LD_LIBRARY_PATH: /usr/local/cuda/lib64:/usr/local/nccl2/lib:/usr/local/cuda/extras/CUPTI/lib64\n",
      "2024-08-22 05:08:26.772652: W tensorflow/compiler/xla/stream_executor/cuda/cuda_driver.cc:265] failed call to cuInit: UNKNOWN ERROR (303)\n",
      "2024-08-22 05:08:26.772682: I tensorflow/compiler/xla/stream_executor/cuda/cuda_diagnostics.cc:156] kernel driver does not appear to be running on this host (instance-20240821-223802): /proc/driver/nvidia/version does not exist\n",
      "2024-08-22 05:08:26.772986: I tensorflow/core/platform/cpu_feature_guard.cc:193] This TensorFlow binary is optimized with oneAPI Deep Neural Network Library (oneDNN) to use the following CPU instructions in performance-critical operations:  AVX2 FMA\n",
      "To enable them in other operations, rebuild TensorFlow with the appropriate compiler flags.\n"
     ]
    },
    {
     "name": "stdout",
     "output_type": "stream",
     "text": [
      "1/1 [==============================] - 0s 97ms/step\n"
     ]
    },
    {
     "data": {
      "text/plain": [
       "array([[-2057.38]], dtype=float32)"
      ]
     },
     "execution_count": 6,
     "metadata": {},
     "output_type": "execute_result"
    }
   ],
   "source": [
    "gm.predict(x.reshape(1,6))"
   ]
  },
  {
   "cell_type": "code",
   "execution_count": null,
   "id": "0467102e-9d14-40ac-a4b4-222a96f85116",
   "metadata": {},
   "outputs": [],
   "source": []
  }
 ],
 "metadata": {
  "environment": {
   "kernel": "python3",
   "name": "tf2-cpu.2-11.m124",
   "type": "gcloud",
   "uri": "us-docker.pkg.dev/deeplearning-platform-release/gcr.io/tf2-cpu.2-11:m124"
  },
  "kernelspec": {
   "display_name": "Python 3 (Local)",
   "language": "python",
   "name": "python3"
  },
  "language_info": {
   "codemirror_mode": {
    "name": "ipython",
    "version": 3
   },
   "file_extension": ".py",
   "mimetype": "text/x-python",
   "name": "python",
   "nbconvert_exporter": "python",
   "pygments_lexer": "ipython3",
   "version": "3.10.14"
  }
 },
 "nbformat": 4,
 "nbformat_minor": 5
}
