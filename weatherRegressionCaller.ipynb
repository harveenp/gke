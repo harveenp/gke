{
 "cells": [
  {
   "cell_type": "code",
   "execution_count": 1,
   "id": "48c302c2-50b5-4bcf-b352-5a98ac66131f",
   "metadata": {
    "tags": []
   },
   "outputs": [
    {
     "name": "stderr",
     "output_type": "stream",
     "text": [
      "2024-08-22 14:34:16.469147: I tensorflow/core/platform/cpu_feature_guard.cc:193] This TensorFlow binary is optimized with oneAPI Deep Neural Network Library (oneDNN) to use the following CPU instructions in performance-critical operations:  AVX2 FMA\n",
      "To enable them in other operations, rebuild TensorFlow with the appropriate compiler flags.\n",
      "2024-08-22 14:34:17.757341: W tensorflow/compiler/xla/stream_executor/platform/default/dso_loader.cc:64] Could not load dynamic library 'libnvinfer.so.7'; dlerror: libnvinfer.so.7: cannot open shared object file: No such file or directory; LD_LIBRARY_PATH: /usr/local/cuda/lib64:/usr/local/nccl2/lib:/usr/local/cuda/extras/CUPTI/lib64\n",
      "2024-08-22 14:34:17.757518: W tensorflow/compiler/xla/stream_executor/platform/default/dso_loader.cc:64] Could not load dynamic library 'libnvinfer_plugin.so.7'; dlerror: libnvinfer_plugin.so.7: cannot open shared object file: No such file or directory; LD_LIBRARY_PATH: /usr/local/cuda/lib64:/usr/local/nccl2/lib:/usr/local/cuda/extras/CUPTI/lib64\n",
      "2024-08-22 14:34:17.757531: W tensorflow/compiler/tf2tensorrt/utils/py_utils.cc:38] TF-TRT Warning: Cannot dlopen some TensorRT libraries. If you would like to use Nvidia GPU with TensorRT, please make sure the missing libraries mentioned above are installed properly.\n"
     ]
    }
   ],
   "source": [
    "import os\n",
    "import numpy as np\n",
    "from GenericModel import GenericModel\n",
    "from ModelConfig import ModelConfig\n",
    "from tensorflow.keras.losses import BinaryCrossentropy, MeanSquaredError\n",
    "from tensorflow.keras.optimizers import Adam"
   ]
  },
  {
   "cell_type": "code",
   "execution_count": 2,
   "id": "dae322f7-1506-4f98-8126-10e1aa6bbcee",
   "metadata": {
    "tags": []
   },
   "outputs": [],
   "source": [
    "os.environ[\"AIP_TRAINING_DATA_URI\"] = \"gs://aiml_harveen/weather_elbasan/regression/training_data/elbasan2021.csv\"\n",
    "os.environ[\"AIP_VALIDATION_DATA_URI\"] = \"gs://aiml_harveen/weather_elbasan/regression/dev_data/elbasan2021.csv\"\n",
    "os.environ[\"AIP_TEST_DATA_URI\"] = \"gs://aiml_harveen/weather_elbasan/regression/test_data/elbasan2021.csv\"\n",
    "os.environ[\"AIP_MODEL_DIR\"] = \"gs://aiml_harveen/weather_elbasan/regression/weather_model\""
   ]
  },
  {
   "cell_type": "code",
   "execution_count": 3,
   "id": "16624cfc-8b58-472b-a11d-f55dc9be1e7c",
   "metadata": {
    "tags": []
   },
   "outputs": [
    {
     "name": "stderr",
     "output_type": "stream",
     "text": [
      "2024-08-22 14:34:25.791169: W tensorflow/compiler/xla/stream_executor/platform/default/dso_loader.cc:64] Could not load dynamic library 'libcuda.so.1'; dlerror: libcuda.so.1: cannot open shared object file: No such file or directory; LD_LIBRARY_PATH: /usr/local/cuda/lib64:/usr/local/nccl2/lib:/usr/local/cuda/extras/CUPTI/lib64\n",
      "2024-08-22 14:34:25.792122: W tensorflow/compiler/xla/stream_executor/cuda/cuda_driver.cc:265] failed call to cuInit: UNKNOWN ERROR (303)\n",
      "2024-08-22 14:34:25.792191: I tensorflow/compiler/xla/stream_executor/cuda/cuda_diagnostics.cc:156] kernel driver does not appear to be running on this host (instance-20240821-223802): /proc/driver/nvidia/version does not exist\n",
      "2024-08-22 14:34:25.804915: I tensorflow/core/platform/cpu_feature_guard.cc:193] This TensorFlow binary is optimized with oneAPI Deep Neural Network Library (oneDNN) to use the following CPU instructions in performance-critical operations:  AVX2 FMA\n",
      "To enable them in other operations, rebuild TensorFlow with the appropriate compiler flags.\n"
     ]
    }
   ],
   "source": [
    "modelConfigList=[\n",
    "    ModelConfig(\n",
    "        model_type=\"regression\",\n",
    "        layers=[\"relu\",\"relu\",\"linear\"],\n",
    "        neurons=[16,8,1],\n",
    "        epochs=20,\n",
    "        loss=MeanSquaredError(),\n",
    "        optimizer=Adam(learning_rate=0.01),\n",
    "        regularizers=[0.001,0.001,0.001],\n",
    "        verbose=1,\n",
    "        no_of_networks=1\n",
    "    ),\n",
    "]"
   ]
  },
  {
   "cell_type": "code",
   "execution_count": 4,
   "id": "11173d1c-2a1e-46f6-861d-42c4bacf2e19",
   "metadata": {
    "tags": []
   },
   "outputs": [],
   "source": [
    "input=np.array([13.9,10,17.4,73,5.9,1010.3])"
   ]
  },
  {
   "cell_type": "code",
   "execution_count": 5,
   "id": "d307779e-4c88-4e35-99dd-20445ff8af9a",
   "metadata": {
    "tags": []
   },
   "outputs": [],
   "source": [
    "gm=GenericModel(None)"
   ]
  },
  {
   "cell_type": "code",
   "execution_count": 6,
   "id": "6c7e2639-0be3-4d17-97cc-79dae3f8fe6c",
   "metadata": {
    "tags": []
   },
   "outputs": [
    {
     "name": "stdout",
     "output_type": "stream",
     "text": [
      "1/1 [==============================] - 0s 249ms/step\n"
     ]
    },
    {
     "data": {
      "text/plain": [
       "array([[-2057.38]], dtype=float32)"
      ]
     },
     "execution_count": 6,
     "metadata": {},
     "output_type": "execute_result"
    }
   ],
   "source": [
    "gm.predict(input.reshape(1,6))"
   ]
  },
  {
   "cell_type": "code",
   "execution_count": null,
   "id": "0467102e-9d14-40ac-a4b4-222a96f85116",
   "metadata": {},
   "outputs": [],
   "source": []
  }
 ],
 "metadata": {
  "environment": {
   "kernel": "python3",
   "name": "tf2-cpu.2-11.m124",
   "type": "gcloud",
   "uri": "us-docker.pkg.dev/deeplearning-platform-release/gcr.io/tf2-cpu.2-11:m124"
  },
  "kernelspec": {
   "display_name": "Python 3 (Local)",
   "language": "python",
   "name": "python3"
  },
  "language_info": {
   "codemirror_mode": {
    "name": "ipython",
    "version": 3
   },
   "file_extension": ".py",
   "mimetype": "text/x-python",
   "name": "python",
   "nbconvert_exporter": "python",
   "pygments_lexer": "ipython3",
   "version": "3.10.14"
  }
 },
 "nbformat": 4,
 "nbformat_minor": 5
}
